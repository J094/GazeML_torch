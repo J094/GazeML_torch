{
 "cells": [
  {
   "cell_type": "code",
   "execution_count": 1,
   "id": "f255a4d9",
   "metadata": {},
   "outputs": [],
   "source": [
    "import numpy as np"
   ]
  },
  {
   "cell_type": "code",
   "execution_count": 2,
   "id": "6b786993",
   "metadata": {
    "scrolled": true
   },
   "outputs": [
    {
     "data": {
      "text/plain": [
       "0.687999865492884"
      ]
     },
     "execution_count": 2,
     "metadata": {},
     "output_type": "execute_result"
    }
   ],
   "source": [
    "np.random.rand()"
   ]
  },
  {
   "cell_type": "code",
   "execution_count": 3,
   "id": "a00cbff8",
   "metadata": {},
   "outputs": [
    {
     "data": {
      "text/plain": [
       "0.6"
      ]
     },
     "execution_count": 3,
     "metadata": {},
     "output_type": "execute_result"
    }
   ],
   "source": [
    "np.random.randint(10) / 10.0"
   ]
  },
  {
   "cell_type": "code",
   "execution_count": 4,
   "id": "f122760e",
   "metadata": {},
   "outputs": [
    {
     "data": {
      "text/plain": [
       "-1.3900917102357573"
      ]
     },
     "execution_count": 4,
     "metadata": {},
     "output_type": "execute_result"
    }
   ],
   "source": [
    "np.random.randn()"
   ]
  },
  {
   "cell_type": "code",
   "execution_count": 24,
   "id": "e1de6a6f",
   "metadata": {},
   "outputs": [],
   "source": [
    "import torch\n",
    "import matplotlib.pyplot as plt"
   ]
  },
  {
   "cell_type": "code",
   "execution_count": 25,
   "id": "cd68f76f",
   "metadata": {},
   "outputs": [],
   "source": [
    "from src.datasources.unityeyes import UnityEyesDataset"
   ]
  },
  {
   "cell_type": "code",
   "execution_count": 26,
   "id": "4b985f85",
   "metadata": {},
   "outputs": [],
   "source": [
    "root = 'E:/Datasets/UnityEyes_Windows/640x480/val'\n",
    "u = UnityEyesDataset(root, eye_image_shape=(72, 120), heatmaps_scale = 0.5, generate_heatmaps=True, random_difficulty=True)"
   ]
  },
  {
   "cell_type": "code",
   "execution_count": 27,
   "id": "c03daf09",
   "metadata": {},
   "outputs": [
    {
     "output_type": "execute_result",
     "data": {
      "text/plain": [
       "231232"
      ]
     },
     "metadata": {},
     "execution_count": 27
    }
   ],
   "source": [
    "u.num_entries"
   ]
  },
  {
   "cell_type": "code",
   "execution_count": 28,
   "id": "b76d30a3",
   "metadata": {},
   "outputs": [],
   "source": [
    "u_dataloader = torch.utils.data.DataLoader(u, batch_size=32)"
   ]
  },
  {
   "cell_type": "code",
   "execution_count": 34,
   "metadata": {},
   "outputs": [
    {
     "output_type": "stream",
     "name": "stdout",
     "text": [
      "0.33331829999997353\n"
     ]
    }
   ],
   "source": [
    "import time\n",
    "start = time.perf_counter()\n",
    "for one_batch in u_dataloader:\n",
    "    u_onebatch = one_batch\n",
    "    break\n",
    "print(time.perf_counter() - start)"
   ]
  },
  {
   "cell_type": "code",
   "execution_count": 6,
   "id": "0978c494",
   "metadata": {
    "scrolled": true
   },
   "outputs": [
    {
     "name": "stdout",
     "output_type": "stream",
     "text": [
      "Epoch: 0\n",
      "4274\n",
      "8570\n",
      "12806\n",
      "17069\n",
      "21395\n",
      "25624\n",
      "29886\n",
      "34168\n",
      "38464\n",
      "42642\n",
      "46880\n",
      "51127\n",
      "Epoch: 1\n",
      "57517\n",
      "61779\n",
      "907\n",
      "5219\n",
      "9486\n",
      "13742\n",
      "18005\n",
      "22286\n",
      "26539\n",
      "30848\n",
      "35103\n",
      "39362\n"
     ]
    }
   ],
   "source": [
    "# Dataloader read data in endless loop, from begin to end, from end to begin.\n",
    "for epoch in range(2):\n",
    "    print(f'Epoch: {epoch}')\n",
    "    num = 0\n",
    "    for batch in u_dataloader:\n",
    "        num += 1\n",
    "        if num % 50 == 0:\n",
    "            print(u.current_index)\n",
    "        if num >= 40000/64:\n",
    "            break"
   ]
  },
  {
   "cell_type": "code",
   "execution_count": 35,
   "id": "15931ae1",
   "metadata": {
    "scrolled": true
   },
   "outputs": [],
   "source": [
    "a = next(iter(u_dataloader))"
   ]
  },
  {
   "cell_type": "code",
   "execution_count": 36,
   "id": "5742c624",
   "metadata": {},
   "outputs": [
    {
     "output_type": "execute_result",
     "data": {
      "text/plain": [
       "torch.Size([32, 1])"
      ]
     },
     "metadata": {},
     "execution_count": 36
    }
   ],
   "source": [
    "torch.unsqueeze(a['radius'], dim=-1).shape"
   ]
  },
  {
   "cell_type": "code",
   "execution_count": 37,
   "id": "adfc31c4",
   "metadata": {},
   "outputs": [
    {
     "output_type": "execute_result",
     "data": {
      "text/plain": [
       "tensor([[-0.5400,  0.6767],\n",
       "        [-0.4796, -0.0670],\n",
       "        [ 0.0120, -0.7921],\n",
       "        [-0.3025, -0.1977],\n",
       "        [-0.2521, -1.0205],\n",
       "        [ 0.6583,  0.5723],\n",
       "        [ 0.3566, -0.6638],\n",
       "        [-0.5584, -0.4502],\n",
       "        [ 0.4164, -0.1599],\n",
       "        [ 0.7873, -0.4878],\n",
       "        [-0.1678, -0.2907],\n",
       "        [-0.1525,  0.0037],\n",
       "        [ 0.5173, -0.5136],\n",
       "        [-0.4596,  0.1909],\n",
       "        [ 0.1943, -0.0337],\n",
       "        [-0.0647,  0.5664],\n",
       "        [-0.2221,  0.1410],\n",
       "        [-0.3148, -0.0187],\n",
       "        [ 0.4289, -0.1300],\n",
       "        [-0.5104,  0.3017],\n",
       "        [-0.5954, -0.4068],\n",
       "        [ 0.5580, -0.7961],\n",
       "        [ 0.5535,  0.0654],\n",
       "        [-0.2663, -0.7129],\n",
       "        [-0.2884, -0.3494],\n",
       "        [-0.0900, -0.2980],\n",
       "        [-0.0674, -0.4954],\n",
       "        [-0.2906, -0.2784],\n",
       "        [-0.2599, -0.0042],\n",
       "        [-0.2078, -0.4313],\n",
       "        [ 0.2987,  0.3054],\n",
       "        [ 0.5611,  0.9086]])"
      ]
     },
     "metadata": {},
     "execution_count": 37
    }
   ],
   "source": [
    "a['gaze']"
   ]
  },
  {
   "cell_type": "code",
   "execution_count": null,
   "id": "1647305b",
   "metadata": {},
   "outputs": [],
   "source": []
  }
 ],
 "metadata": {
  "kernelspec": {
   "name": "python3710jvsc74a57bd0f2edfc21b679c8125164000ff6c4a44f2c65f8942a5b0ad32d8d44e767687496",
   "display_name": "Python 3.7.10 64-bit ('cv_torch': conda)"
  },
  "language_info": {
   "codemirror_mode": {
    "name": "ipython",
    "version": 3
   },
   "file_extension": ".py",
   "mimetype": "text/x-python",
   "name": "python",
   "nbconvert_exporter": "python",
   "pygments_lexer": "ipython3",
   "version": "3.7.10"
  }
 },
 "nbformat": 4,
 "nbformat_minor": 5
}