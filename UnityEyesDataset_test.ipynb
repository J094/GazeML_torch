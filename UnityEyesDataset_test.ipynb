{
 "cells": [
  {
   "cell_type": "code",
   "execution_count": 1,
   "id": "f255a4d9",
   "metadata": {},
   "outputs": [],
   "source": [
    "import numpy as np"
   ]
  },
  {
   "cell_type": "code",
   "execution_count": 2,
   "id": "6b786993",
   "metadata": {
    "scrolled": true
   },
   "outputs": [
    {
     "data": {
      "text/plain": [
       "0.687999865492884"
      ]
     },
     "execution_count": 2,
     "metadata": {},
     "output_type": "execute_result"
    }
   ],
   "source": [
    "np.random.rand()"
   ]
  },
  {
   "cell_type": "code",
   "execution_count": 3,
   "id": "a00cbff8",
   "metadata": {},
   "outputs": [
    {
     "data": {
      "text/plain": [
       "0.6"
      ]
     },
     "execution_count": 3,
     "metadata": {},
     "output_type": "execute_result"
    }
   ],
   "source": [
    "np.random.randint(10) / 10.0"
   ]
  },
  {
   "cell_type": "code",
   "execution_count": 4,
   "id": "f122760e",
   "metadata": {},
   "outputs": [
    {
     "data": {
      "text/plain": [
       "-1.3900917102357573"
      ]
     },
     "execution_count": 4,
     "metadata": {},
     "output_type": "execute_result"
    }
   ],
   "source": [
    "np.random.randn()"
   ]
  },
  {
   "cell_type": "code",
   "execution_count": 5,
   "id": "e1de6a6f",
   "metadata": {},
   "outputs": [],
   "source": [
    "import torch\n",
    "import matplotlib.pyplot as plt"
   ]
  },
  {
   "cell_type": "code",
   "execution_count": 6,
   "id": "cd68f76f",
   "metadata": {},
   "outputs": [],
   "source": [
    "from src.datasources.unityeyes import UnityEyesDataset"
   ]
  },
  {
   "cell_type": "code",
   "execution_count": 7,
   "id": "4b985f85",
   "metadata": {},
   "outputs": [],
   "source": [
    "root = 'E:/Datasets/UnityEyes_Windows/800x600/val'\n",
    "u = UnityEyesDataset(root, eye_image_shape=(36, 60), generate_heatmaps=False, random_difficulty=True)"
   ]
  },
  {
   "cell_type": "code",
   "execution_count": 8,
   "id": "c03daf09",
   "metadata": {},
   "outputs": [
    {
     "data": {
      "text/plain": [
       "65135"
      ]
     },
     "execution_count": 8,
     "metadata": {},
     "output_type": "execute_result"
    }
   ],
   "source": [
    "u.num_entries"
   ]
  },
  {
   "cell_type": "code",
   "execution_count": 9,
   "id": "b76d30a3",
   "metadata": {},
   "outputs": [],
   "source": [
    "u_dataloader = torch.utils.data.DataLoader(u, batch_size=64)"
   ]
  },
  {
   "cell_type": "code",
   "execution_count": 6,
   "id": "0978c494",
   "metadata": {
    "scrolled": true
   },
   "outputs": [
    {
     "name": "stdout",
     "output_type": "stream",
     "text": [
      "Epoch: 0\n",
      "4274\n",
      "8570\n",
      "12806\n",
      "17069\n",
      "21395\n",
      "25624\n",
      "29886\n",
      "34168\n",
      "38464\n",
      "42642\n",
      "46880\n",
      "51127\n",
      "Epoch: 1\n",
      "57517\n",
      "61779\n",
      "907\n",
      "5219\n",
      "9486\n",
      "13742\n",
      "18005\n",
      "22286\n",
      "26539\n",
      "30848\n",
      "35103\n",
      "39362\n"
     ]
    }
   ],
   "source": [
    "# Dataloader read data in endless loop, from begin to end, from end to begin.\n",
    "for epoch in range(2):\n",
    "    print(f'Epoch: {epoch}')\n",
    "    num = 0\n",
    "    for batch in u_dataloader:\n",
    "        num += 1\n",
    "        if num % 50 == 0:\n",
    "            print(u.current_index)\n",
    "        if num >= 40000/64:\n",
    "            break"
   ]
  },
  {
   "cell_type": "code",
   "execution_count": 10,
   "id": "15931ae1",
   "metadata": {
    "scrolled": true
   },
   "outputs": [],
   "source": [
    "a = next(iter(u_dataloader))"
   ]
  },
  {
   "cell_type": "code",
   "execution_count": 11,
   "id": "5742c624",
   "metadata": {},
   "outputs": [
    {
     "data": {
      "text/plain": [
       "torch.Size([64, 1])"
      ]
     },
     "execution_count": 11,
     "metadata": {},
     "output_type": "execute_result"
    }
   ],
   "source": [
    "torch.unsqueeze(a['radius'], dim=-1).shape"
   ]
  },
  {
   "cell_type": "code",
   "execution_count": 12,
   "id": "adfc31c4",
   "metadata": {},
   "outputs": [
    {
     "data": {
      "text/plain": [
       "tensor([[ 2.4825e-01,  2.4645e+00],\n",
       "        [ 3.4866e-01, -2.6453e+00],\n",
       "        [-3.2132e-01, -3.0676e+00],\n",
       "        [-2.0841e-01, -2.8346e+00],\n",
       "        [ 6.2442e-01, -2.9146e+00],\n",
       "        [ 1.4539e-01, -2.6451e+00],\n",
       "        [-1.5138e-01, -3.0660e+00],\n",
       "        [ 1.5317e-01,  3.0076e+00],\n",
       "        [ 3.5865e-01,  2.6199e+00],\n",
       "        [ 3.7544e-01, -2.2208e+00],\n",
       "        [-4.3257e-01, -2.7650e+00],\n",
       "        [ 5.1119e-01,  2.3160e+00],\n",
       "        [ 1.0127e-01, -3.1357e+00],\n",
       "        [ 8.4200e-02, -3.0201e+00],\n",
       "        [ 4.9071e-01, -3.0034e+00],\n",
       "        [-2.3603e-02,  2.8625e+00],\n",
       "        [ 2.9748e-01,  2.9126e+00],\n",
       "        [ 4.4027e-01, -2.0981e+00],\n",
       "        [-3.7097e-01, -2.7830e+00],\n",
       "        [-2.3937e-01, -2.6986e+00],\n",
       "        [-2.4164e-01, -3.0869e+00],\n",
       "        [ 8.1549e-02,  2.4102e+00],\n",
       "        [ 1.5001e-02,  2.9274e+00],\n",
       "        [ 3.0367e-01,  2.7429e+00],\n",
       "        [ 2.5838e-01,  2.6187e+00],\n",
       "        [-6.5898e-01,  3.1026e+00],\n",
       "        [-9.0002e-04,  2.5410e+00],\n",
       "        [ 2.8077e-01, -2.5497e+00],\n",
       "        [ 1.3918e-01,  2.8664e+00],\n",
       "        [-1.2428e-01, -2.8234e+00],\n",
       "        [-3.5244e-01, -3.0707e+00],\n",
       "        [-3.0342e-01, -2.2492e+00],\n",
       "        [ 2.6711e-01,  2.6377e+00],\n",
       "        [ 7.1760e-02, -3.0235e+00],\n",
       "        [ 2.7559e-01, -2.8365e+00],\n",
       "        [-3.8544e-01, -2.6969e+00],\n",
       "        [-3.4279e-01,  2.9973e+00],\n",
       "        [-1.0135e-01,  2.4075e+00],\n",
       "        [-1.8169e-01, -2.8386e+00],\n",
       "        [ 3.5138e-01,  3.0592e+00],\n",
       "        [-6.6871e-01,  3.0363e+00],\n",
       "        [-1.2151e-01,  2.6223e+00],\n",
       "        [ 6.0235e-02,  2.8289e+00],\n",
       "        [-4.5847e-02,  2.8831e+00],\n",
       "        [-4.2020e-01,  2.9009e+00],\n",
       "        [-6.3766e-01,  2.8685e+00],\n",
       "        [ 2.2468e-01, -2.9905e+00],\n",
       "        [ 1.3358e-01, -2.5875e+00],\n",
       "        [-2.1401e-02, -3.1276e+00],\n",
       "        [-3.2189e-01,  2.7758e+00],\n",
       "        [-5.3819e-01, -3.0420e+00],\n",
       "        [ 9.7003e-02,  2.8397e+00],\n",
       "        [ 4.9723e-01,  2.8753e+00],\n",
       "        [-3.4999e-01, -2.8375e+00],\n",
       "        [ 4.5702e-01, -2.7631e+00],\n",
       "        [-4.7128e-01,  2.4826e+00],\n",
       "        [ 1.6966e-01,  2.9046e+00],\n",
       "        [ 3.1313e-01, -3.0463e+00],\n",
       "        [-1.5950e-01,  2.9507e+00],\n",
       "        [-5.9960e-01,  2.6356e+00],\n",
       "        [ 2.5162e-01,  2.9982e+00],\n",
       "        [-2.9916e-01,  2.3693e+00],\n",
       "        [-3.4210e-02,  2.5850e+00],\n",
       "        [-2.4959e-02,  3.0263e+00]])"
      ]
     },
     "execution_count": 12,
     "metadata": {},
     "output_type": "execute_result"
    }
   ],
   "source": [
    "a['gaze']"
   ]
  },
  {
   "cell_type": "code",
   "execution_count": null,
   "id": "1647305b",
   "metadata": {},
   "outputs": [],
   "source": []
  }
 ],
 "metadata": {
  "kernelspec": {
   "display_name": "Python 3",
   "language": "python",
   "name": "python3"
  },
  "language_info": {
   "codemirror_mode": {
    "name": "ipython",
    "version": 3
   },
   "file_extension": ".py",
   "mimetype": "text/x-python",
   "name": "python",
   "nbconvert_exporter": "python",
   "pygments_lexer": "ipython3",
   "version": "3.7.10"
  }
 },
 "nbformat": 4,
 "nbformat_minor": 5
}
