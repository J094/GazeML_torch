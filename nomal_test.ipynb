{
 "cells": [
  {
   "cell_type": "code",
   "execution_count": 5,
   "id": "f5b2c389",
   "metadata": {},
   "outputs": [],
   "source": [
    "import torch\n",
    "import numpy as np"
   ]
  },
  {
   "cell_type": "code",
   "execution_count": 2,
   "id": "3614964e",
   "metadata": {},
   "outputs": [
    {
     "data": {
      "text/plain": [
       "tensor([[[-0.3311,  0.3914],\n",
       "         [-0.6793,  1.1581],\n",
       "         [-0.3154,  0.5366],\n",
       "         [-0.0642,  1.6867],\n",
       "         [ 0.3482,  0.6087],\n",
       "         [ 0.5800, -0.5502],\n",
       "         [-1.1955, -0.8860],\n",
       "         [-0.3274,  2.0680]],\n",
       "\n",
       "        [[ 0.9161,  1.1640],\n",
       "         [ 0.9055, -0.9205],\n",
       "         [-0.4583,  0.9977],\n",
       "         [ 0.7823, -0.1852],\n",
       "         [-0.0817, -2.2772],\n",
       "         [-0.8077, -0.7288],\n",
       "         [ 0.7142,  1.2565],\n",
       "         [ 0.1752, -1.1366]]], device='cuda:0')"
      ]
     },
     "execution_count": 2,
     "metadata": {},
     "output_type": "execute_result"
    }
   ],
   "source": [
    "ldmks = torch.randn(2, 8, 2).cuda()\n",
    "ldmks"
   ]
  },
  {
   "cell_type": "code",
   "execution_count": 4,
   "id": "a613cd39",
   "metadata": {},
   "outputs": [
    {
     "data": {
      "text/plain": [
       "tensor([[[-0.6566,  0.7762],\n",
       "         [-1.3470,  2.2965],\n",
       "         [-0.6254,  1.0640],\n",
       "         [-0.1272,  3.3448],\n",
       "         [ 0.6904,  1.2070],\n",
       "         [ 1.1501, -1.0910],\n",
       "         [-1.7215, -5.8578],\n",
       "         [-0.6492,  4.1009]],\n",
       "\n",
       "        [[ 0.3616,  0.4594],\n",
       "         [ 0.3574, -0.3633],\n",
       "         [-0.1809,  0.3938],\n",
       "         [ 0.3088, -0.0731],\n",
       "         [-0.0323, -0.8988],\n",
       "         [-0.3188, -0.2877],\n",
       "         [ 0.2127,  0.9446],\n",
       "         [ 0.0692, -0.4486]]], device='cuda:0')"
      ]
     },
     "execution_count": 4,
     "metadata": {},
     "output_type": "execute_result"
    }
   ],
   "source": [
    "for e in range(len(ldmks)):\n",
    "    eye_width = torch.sqrt(torch.mean(torch.square(ldmks[e][0] - ldmks[e][4])))\n",
    "    ldmks[e] = ldmks[e] / eye_width\n",
    "    gaze_prior = ldmks[e][-2] - ldmks[e][-1]\n",
    "    ldmks[e][-2] = gaze_prior\n",
    "ldmks"
   ]
  },
  {
   "cell_type": "code",
   "execution_count": 1,
   "id": "73f3b568",
   "metadata": {},
   "outputs": [],
   "source": [
    "def vector_to_pitchyaw(vectors):\n",
    "    r\"\"\"Convert given gaze vectors to yaw (:math:`\\theta`) and pitch (:math:`\\phi`) angles.\n",
    "\n",
    "    Args:\n",
    "        vectors (:obj:`numpy.array`): gaze vectors in 3D :math:`(n\\times 3)`.\n",
    "\n",
    "    Returns:\n",
    "        :obj:`numpy.array` of shape :math:`(n\\times 2)` with values in radians.\n",
    "    \"\"\"\n",
    "    n = vectors.shape[0]\n",
    "    out = np.empty((n, 2))\n",
    "    # 将向量标准化\n",
    "    vectors = np.divide(vectors, np.linalg.norm(vectors, axis=1).reshape(n, 1))\n",
    "    out[:, 0] = np.arcsin(vectors[:, 1])  # phi\n",
    "    out[:, 1] = np.arctan2(vectors[:, 0], vectors[:, 2])  # theta\n",
    "    return out"
   ]
  },
  {
   "cell_type": "code",
   "execution_count": 24,
   "id": "fa86a77b",
   "metadata": {},
   "outputs": [
    {
     "data": {
      "text/plain": [
       "array([[ 0.6073,  0.2457, -0.7555]])"
      ]
     },
     "execution_count": 24,
     "metadata": {},
     "output_type": "execute_result"
    }
   ],
   "source": [
    "a = [-0.6073, 0.2457, -0.7555]\n",
    "a[0] = -a[0]\n",
    "a = np.expand_dims(np.array(a), axis=0)\n",
    "a"
   ]
  },
  {
   "cell_type": "code",
   "execution_count": 25,
   "id": "04759c95",
   "metadata": {},
   "outputs": [
    {
     "data": {
      "text/plain": [
       "array([[0.24824658, 2.46451553]])"
      ]
     },
     "execution_count": 25,
     "metadata": {},
     "output_type": "execute_result"
    }
   ],
   "source": [
    "vector_to_pitchyaw(a)"
   ]
  },
  {
   "cell_type": "code",
   "execution_count": 28,
   "id": "d2cb0b8e",
   "metadata": {},
   "outputs": [
    {
     "data": {
      "text/plain": [
       "2.4645155305260342"
      ]
     },
     "execution_count": 28,
     "metadata": {},
     "output_type": "execute_result"
    }
   ],
   "source": [
    "np.arctan2(0.6073, -0.7555)"
   ]
  },
  {
   "cell_type": "code",
   "execution_count": 29,
   "id": "a8e55bd2",
   "metadata": {},
   "outputs": [
    {
     "data": {
      "text/plain": [
       "-0.6770771230637591"
      ]
     },
     "execution_count": 29,
     "metadata": {},
     "output_type": "execute_result"
    }
   ],
   "source": [
    "np.arctan(0.6073 / -0.7555)"
   ]
  },
  {
   "cell_type": "code",
   "execution_count": null,
   "id": "04499f6f",
   "metadata": {},
   "outputs": [],
   "source": []
  }
 ],
 "metadata": {
  "kernelspec": {
   "display_name": "Python 3",
   "language": "python",
   "name": "python3"
  },
  "language_info": {
   "codemirror_mode": {
    "name": "ipython",
    "version": 3
   },
   "file_extension": ".py",
   "mimetype": "text/x-python",
   "name": "python",
   "nbconvert_exporter": "python",
   "pygments_lexer": "ipython3",
   "version": "3.7.10"
  }
 },
 "nbformat": 4,
 "nbformat_minor": 5
}
